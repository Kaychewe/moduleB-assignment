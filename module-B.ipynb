{
 "cells": [
  {
   "attachments": {},
   "cell_type": "markdown",
   "metadata": {},
   "source": [
    "## Module submission header\n",
    "### Submission preparation instructions \n",
    "_Completion of this header is mandatory, subject to a 2-point deduction to the assignment._ Only add plain text in the designated areas, i.e., replacing the relevant 'NA's. You must fill out all group member Names and Drexel email addresses in the below markdown list, under header __Module submission group__. It is required to fill out descriptive notes pertaining to any tutoring support received in the completion of this submission under the __Additional submission comments__ section at the bottom of the header. If no tutoring support was received, leave NA in place. You may as well list other optional comments pertaining to the submission at bottom. _Any distruption of this header's formatting will make your group liable to the 2-point deduction._\n",
    "\n",
    "### Module submission group\n",
    "- Group member 1\n",
    "    - Name: Kasonde Chewe\n",
    "    - Email: kc3745@drexel.edu\n",
    "- Group member 2\n",
    "    - Name: NA\n",
    "    - Email: NA\n",
    "- Group member 3\n",
    "    - Name: NA\n",
    "    - Email: NA\n",
    "- Group member 4\n",
    "    - Name: NA\n",
    "    - Email: NA\n",
    "\n",
    "### Additional submission comments\n",
    "- Tutoring support received: NA\n",
    "- Other (other): NA"
   ]
  },
  {
   "cell_type": "markdown",
   "metadata": {},
   "source": [
    "# Assignment Group 1\n"
   ]
  },
  {
   "cell_type": "markdown",
   "metadata": {},
   "source": [
    "## Module B _(23 points)_\n",
    "\n",
    "__B1.__ _(5 points)_ You will be using part of the [Goodbooks 10k dataset](https://github.com/zygmuntz/goodbooks-10k) for this module. To start, complete the function and read the `data/goodreads-books.csv` file into a list. Your output should be a list of dictionaries (one for for each book), which each contain the following fields: `'authors'`, original `'title'`, original `'publication year'`, `'average rating'`, and `'ratings count'`. Note: you must convert the average rating and ratings count into `float` and `int` types, respectively."
   ]
  },
  {
   "cell_type": "code",
   "execution_count": 1,
   "metadata": {},
   "outputs": [],
   "source": [
    "# B1:Function(5/5)\n",
    "\n",
    "import csv\n",
    "\n",
    "def load_metadata(path_to_file):\n",
    "    reader = csv.reader(open(path_to_file, \"r\"))\n",
    "    goodreads_books = list(reader)\n",
    "    books_metadata = []\n",
    "    \n",
    "    #---your code starts here---\n",
    "    headers = goodreads_books[0]\n",
    "    books_metadata = []\n",
    "    for row in goodreads_books[1:]:\n",
    "        book = {}\n",
    "        for i, header in enumerate(headers):\n",
    "            book[header] = row[i]\n",
    "        books_metadata.append(book)\n",
    "\n",
    "    # convert string values to appropriate types\n",
    "    for book in books_metadata:\n",
    "        book['publication year'] = float(book['publication year'])\n",
    "        book['average rating'] = float(book['average rating'])\n",
    "        book['ratings count'] = int(book['ratings count'])\n",
    "        \n",
    "        #---your code stops here---\n",
    "        \n",
    "        return books_metadata\n",
    "\n",
    "    books_metadata = load_metadata(\"data/goodreads-books.csv\")\n",
    "    len(books_metadata), books_metadata[:5]"
   ]
  },
  {
   "cell_type": "markdown",
   "metadata": {},
   "source": [
    "For reference, your output should be:\n",
    "```\n",
    "(10000,\n",
    " [{'authors': 'Suzanne Collins',\n",
    "   'title': 'The Hunger Games',\n",
    "   'publication year': '2008.0',\n",
    "   'average rating': 4.34,\n",
    "   'ratings count': 4780653},\n",
    "  {'authors': 'J.K. Rowling, Mary GrandPré',\n",
    "   'title': \"Harry Potter and the Philosopher's Stone\",\n",
    "   'publication year': '1997.0',\n",
    "   'average rating': 4.44,\n",
    "   'ratings count': 4602479},\n",
    "  {'authors': 'Stephenie Meyer',\n",
    "   'title': 'Twilight',\n",
    "   'publication year': '2005.0',\n",
    "   'average rating': 3.57,\n",
    "   'ratings count': 3866839},\n",
    "  {'authors': 'Harper Lee',\n",
    "   'title': 'To Kill a Mockingbird',\n",
    "   'publication year': '1960.0',\n",
    "   'average rating': 4.25,\n",
    "   'ratings count': 3198671},\n",
    "  {'authors': 'F. Scott Fitzgerald',\n",
    "   'title': 'The Great Gatsby',\n",
    "   'publication year': '1925.0',\n",
    "   'average rating': 3.89,\n",
    "   'ratings count': 2683664}])\n",
    "```"
   ]
  },
  {
   "cell_type": "code",
   "execution_count": 7,
   "metadata": {},
   "outputs": [
    {
     "ename": "UnicodeDecodeError",
     "evalue": "'charmap' codec can't decode byte 0x8d in position 630: character maps to <undefined>",
     "output_type": "error",
     "traceback": [
      "\u001b[1;31m---------------------------------------------------------------------------\u001b[0m",
      "\u001b[1;31mUnicodeDecodeError\u001b[0m                        Traceback (most recent call last)",
      "Cell \u001b[1;32mIn[7], line 4\u001b[0m\n\u001b[0;32m      1\u001b[0m \u001b[39m# B1:SanityCheck\u001b[39;00m\n\u001b[0;32m      2\u001b[0m filepath \u001b[39m=\u001b[39m \u001b[39m\"\u001b[39m\u001b[39m\\\\\u001b[39;00m\u001b[39mdata\u001b[39m\u001b[39m\\\\\u001b[39;00m\u001b[39mgoodreads-books.csv\u001b[39m\u001b[39m\"\u001b[39m\n\u001b[1;32m----> 4\u001b[0m books_metadata \u001b[39m=\u001b[39m load_metadata(\u001b[39m\"\u001b[39;49m\u001b[39mdata\u001b[39;49m\u001b[39m\\\u001b[39;49m\u001b[39mgoodreads-books.csv\u001b[39;49m\u001b[39m\"\u001b[39;49m)\n\u001b[0;32m      5\u001b[0m \u001b[39mlen\u001b[39m(books_metadata), books_metadata[:\u001b[39m5\u001b[39m]\n",
      "Cell \u001b[1;32mIn[1], line 7\u001b[0m, in \u001b[0;36mload_metadata\u001b[1;34m(path_to_file)\u001b[0m\n\u001b[0;32m      5\u001b[0m \u001b[39mdef\u001b[39;00m \u001b[39mload_metadata\u001b[39m(path_to_file):\n\u001b[0;32m      6\u001b[0m     reader \u001b[39m=\u001b[39m csv\u001b[39m.\u001b[39mreader(\u001b[39mopen\u001b[39m(path_to_file, \u001b[39m\"\u001b[39m\u001b[39mr\u001b[39m\u001b[39m\"\u001b[39m))\n\u001b[1;32m----> 7\u001b[0m     goodreads_books \u001b[39m=\u001b[39m \u001b[39mlist\u001b[39;49m(reader)\n\u001b[0;32m      8\u001b[0m     books_metadata \u001b[39m=\u001b[39m []\n\u001b[0;32m     10\u001b[0m     \u001b[39m#---your code starts here---\u001b[39;00m\n",
      "File \u001b[1;32mc:\\Users\\Kasonde Chewe\\AppData\\Local\\Programs\\Python\\Python311\\Lib\\encodings\\cp1252.py:23\u001b[0m, in \u001b[0;36mIncrementalDecoder.decode\u001b[1;34m(self, input, final)\u001b[0m\n\u001b[0;32m     22\u001b[0m \u001b[39mdef\u001b[39;00m \u001b[39mdecode\u001b[39m(\u001b[39mself\u001b[39m, \u001b[39minput\u001b[39m, final\u001b[39m=\u001b[39m\u001b[39mFalse\u001b[39;00m):\n\u001b[1;32m---> 23\u001b[0m     \u001b[39mreturn\u001b[39;00m codecs\u001b[39m.\u001b[39mcharmap_decode(\u001b[39minput\u001b[39m,\u001b[39mself\u001b[39m\u001b[39m.\u001b[39merrors,decoding_table)[\u001b[39m0\u001b[39m]\n",
      "\u001b[1;31mUnicodeDecodeError\u001b[0m: 'charmap' codec can't decode byte 0x8d in position 630: character maps to <undefined>"
     ]
    }
   ],
   "source": [
    "# B1:SanityCheck\n",
    "filepath = \"\\\\data\\\\goodreads-books.csv\"\n",
    "\n",
    "books_metadata = load_metadata(\"data\\goodreads-books.csv\")\n",
    "len(books_metadata), books_metadata[:5]"
   ]
  },
  {
   "cell_type": "markdown",
   "metadata": {},
   "source": [
    "__B2.__ _(4 points)_ Complete the function to sort this list of book metadata in descending order of `'average rating'`. The function should take the list of metadata dictionaries as an input argument, and output the same format with the list sorted by the specified column."
   ]
  },
  {
   "cell_type": "code",
   "execution_count": null,
   "metadata": {},
   "outputs": [],
   "source": [
    "# B2:Function(4/4)\n",
    "\n",
    "def sort_metadata(books_metadata):\n",
    "    \n",
    "    #---your code starts here---\n",
    "    \n",
    "    #---your code stops here---\n",
    "    \n",
    "    return sorted_metadata"
   ]
  },
  {
   "cell_type": "markdown",
   "metadata": {},
   "source": [
    "For reference, your output should be:\n",
    "```\n",
    "[{'authors': 'Bill Watterson',\n",
    "  'title': 'The Complete Calvin and Hobbes',\n",
    "  'publication year': '2005.0',\n",
    "  'average rating': 4.82,\n",
    "  'ratings count': 28900},\n",
    " {'authors': 'Brandon Sanderson',\n",
    "  'title': 'Words of Radiance',\n",
    "  'publication year': '2014.0',\n",
    "  'average rating': 4.77,\n",
    "  'ratings count': 73572},\n",
    " {'authors': 'J.K. Rowling, Mary GrandPré',\n",
    "  'title': '',\n",
    "  'publication year': '2003.0',\n",
    "  'average rating': 4.77,\n",
    "  'ratings count': 33220},\n",
    " {'authors': 'Anonymous, Lane T. Dennis, Wayne A. Grudem',\n",
    "  'title': '',\n",
    "  'publication year': '2002.0',\n",
    "  'average rating': 4.76,\n",
    "  'ratings count': 8953},\n",
    " {'authors': 'Francine Rivers',\n",
    "  'title': 'Mark of the Lion Trilogy',\n",
    "  'publication year': '1993.0',\n",
    "  'average rating': 4.76,\n",
    "  'ratings count': 9081}]\n",
    "```"
   ]
  },
  {
   "cell_type": "code",
   "execution_count": null,
   "metadata": {},
   "outputs": [],
   "source": [
    "# B2:SanityCheck\n",
    "\n",
    "sorted_metadata = sort_metadata(books_metadata)\n",
    "sorted_metadata[:5]"
   ]
  },
  {
   "cell_type": "markdown",
   "metadata": {},
   "source": [
    "__B3.__ _(5 points)_ Now complete the below function to take two arguments: the list, and an integer value for minimum ratings count. The new function should now sort _and_ filter the list, returning a list of books sorted by average rating that have been rated by more than a specified number of users. Here, you must use an approach using loops and `if` statements&mdash;in subsequent parts, comprehensions and the built-in `filter()` must be utilized instead (look up documentation and examples)."
   ]
  },
  {
   "cell_type": "code",
   "execution_count": null,
   "metadata": {},
   "outputs": [],
   "source": [
    "# B3:Function(5/5)\n",
    "\n",
    "def sort_and_filter(books_metadata, min_ratings_count):\n",
    "    new_metadata = []\n",
    "    \n",
    "    #---your code starts here---\n",
    "    \n",
    "    #---your code stops here---\n",
    "    \n",
    "    return new_metadata"
   ]
  },
  {
   "cell_type": "markdown",
   "metadata": {},
   "source": [
    "For reference, your output should be:\n",
    "```\n",
    "[{'authors': 'J.K. Rowling, Mary GrandPré',\n",
    "  'title': 'Harry Potter and the Deathly Hallows',\n",
    "  'publication year': '2007.0',\n",
    "  'average rating': 4.61,\n",
    "  'ratings count': 1746574},\n",
    " {'authors': 'J.K. Rowling, Mary GrandPré',\n",
    "  'title': 'Harry Potter and the Half-Blood Prince',\n",
    "  'publication year': '2005.0',\n",
    "  'average rating': 4.54,\n",
    "  'ratings count': 1678823},\n",
    " {'authors': 'J.K. Rowling, Mary GrandPré, Rufus Beck',\n",
    "  'title': 'Harry Potter and the Prisoner of Azkaban',\n",
    "  'publication year': '1999.0',\n",
    "  'average rating': 4.53,\n",
    "  'ratings count': 1832823},\n",
    " {'authors': 'J.K. Rowling, Mary GrandPré',\n",
    "  'title': 'Harry Potter and the Goblet of Fire',\n",
    "  'publication year': '2000.0',\n",
    "  'average rating': 4.53,\n",
    "  'ratings count': 1753043},\n",
    " {'authors': 'J.K. Rowling, Mary GrandPré',\n",
    "  'title': 'Harry Potter and the Order of the Phoenix',\n",
    "  'publication year': '2003.0',\n",
    "  'average rating': 4.46,\n",
    "  'ratings count': 1735368}]\n",
    "```"
   ]
  },
  {
   "cell_type": "code",
   "execution_count": null,
   "metadata": {},
   "outputs": [],
   "source": [
    "# B3:SanityCheck\n",
    "\n",
    "sorted_filtered_metadata = sort_and_filter(books_metadata, 1000000)\n",
    "sorted_filtered_metadata[:5]"
   ]
  },
  {
   "cell_type": "markdown",
   "metadata": {},
   "source": [
    "__B4:__ _(8 points)_ Now use the other two approaches to create different versions of the function. See if you can condense your code into a single line for some of the approaches! \n",
    "\n",
    "First, use a list comprehension _inside_ of the `sorted()` function:"
   ]
  },
  {
   "cell_type": "code",
   "execution_count": null,
   "metadata": {},
   "outputs": [],
   "source": [
    "# B4:Function(4/8)\n",
    "\n",
    "def sort_and_filter(books_metadata, min_ratings_count):\n",
    "    \n",
    "    #---your code starts here---\n",
    "    \n",
    "    #---your code stops here---\n",
    "    \n",
    "    return new_metadata"
   ]
  },
  {
   "cell_type": "markdown",
   "metadata": {},
   "source": [
    "For reference, your output should be:\n",
    "```\n",
    "[{'authors': 'J.K. Rowling, Mary GrandPré',\n",
    "  'title': 'Harry Potter and the Deathly Hallows',\n",
    "  'publication year': '2007.0',\n",
    "  'average rating': 4.61,\n",
    "  'ratings count': 1746574},\n",
    " {'authors': 'J.K. Rowling, Mary GrandPré',\n",
    "  'title': 'Harry Potter and the Half-Blood Prince',\n",
    "  'publication year': '2005.0',\n",
    "  'average rating': 4.54,\n",
    "  'ratings count': 1678823},\n",
    " {'authors': 'J.K. Rowling, Mary GrandPré, Rufus Beck',\n",
    "  'title': 'Harry Potter and the Prisoner of Azkaban',\n",
    "  'publication year': '1999.0',\n",
    "  'average rating': 4.53,\n",
    "  'ratings count': 1832823},\n",
    " {'authors': 'J.K. Rowling, Mary GrandPré',\n",
    "  'title': 'Harry Potter and the Goblet of Fire',\n",
    "  'publication year': '2000.0',\n",
    "  'average rating': 4.53,\n",
    "  'ratings count': 1753043},\n",
    " {'authors': 'J.K. Rowling, Mary GrandPré',\n",
    "  'title': 'Harry Potter and the Order of the Phoenix',\n",
    "  'publication year': '2003.0',\n",
    "  'average rating': 4.46,\n",
    "  'ratings count': 1735368}]\n",
    "```"
   ]
  },
  {
   "cell_type": "code",
   "execution_count": null,
   "metadata": {},
   "outputs": [],
   "source": [
    "# B4:SanityCheck\n",
    "\n",
    "sorted_filtered_metadata = sort_and_filter(books_metadata, 1000000)\n",
    "sorted_filtered_metadata[:5]"
   ]
  },
  {
   "cell_type": "code",
   "execution_count": null,
   "metadata": {},
   "outputs": [],
   "source": [
    "# B4:Function(4/8)\n",
    "\n",
    "def sort_and_filter(books_metadata, min_ratings_count):\n",
    "    \n",
    "    #---your code starts here---\n",
    "    \n",
    "    #---your code stops here---\n",
    "    \n",
    "    return new_metadata"
   ]
  },
  {
   "cell_type": "markdown",
   "metadata": {},
   "source": [
    "For reference, your output should be:\n",
    "```\n",
    "[{'authors': 'J.K. Rowling, Mary GrandPré',\n",
    "  'title': 'Harry Potter and the Deathly Hallows',\n",
    "  'publication year': '2007.0',\n",
    "  'average rating': 4.61,\n",
    "  'ratings count': 1746574},\n",
    " {'authors': 'J.K. Rowling, Mary GrandPré',\n",
    "  'title': 'Harry Potter and the Half-Blood Prince',\n",
    "  'publication year': '2005.0',\n",
    "  'average rating': 4.54,\n",
    "  'ratings count': 1678823},\n",
    " {'authors': 'J.K. Rowling, Mary GrandPré, Rufus Beck',\n",
    "  'title': 'Harry Potter and the Prisoner of Azkaban',\n",
    "  'publication year': '1999.0',\n",
    "  'average rating': 4.53,\n",
    "  'ratings count': 1832823},\n",
    " {'authors': 'J.K. Rowling, Mary GrandPré',\n",
    "  'title': 'Harry Potter and the Goblet of Fire',\n",
    "  'publication year': '2000.0',\n",
    "  'average rating': 4.53,\n",
    "  'ratings count': 1753043},\n",
    " {'authors': 'J.K. Rowling, Mary GrandPré',\n",
    "  'title': 'Harry Potter and the Order of the Phoenix',\n",
    "  'publication year': '2003.0',\n",
    "  'average rating': 4.46,\n",
    "  'ratings count': 1735368}]\n",
    "```"
   ]
  },
  {
   "cell_type": "code",
   "execution_count": null,
   "metadata": {},
   "outputs": [],
   "source": [
    "# B4:SanityCheck\n",
    "\n",
    "sorted_filtered_metadata = sort_and_filter(books_metadata, 1000000)\n",
    "sorted_filtered_metadata[:5]"
   ]
  },
  {
   "cell_type": "markdown",
   "metadata": {},
   "source": [
    "__B5.__ _(1 point)_ Objectively, should the solution in __B3__ be faster or slower than either of the solutions in __B4__? Print your answer as `'Faster'` or `'Slower'` in the code cell below."
   ]
  },
  {
   "cell_type": "code",
   "execution_count": null,
   "metadata": {},
   "outputs": [],
   "source": [
    "# Inline(1/1)\n",
    "\n",
    "# Objectively, should the solution in B3 be faster or slower than either of the solutions from B4? \n",
    "# Print your answer as 'Faster' or 'Slower', below\n",
    "print(\"<Faster or Slower>\")"
   ]
  },
  {
   "cell_type": "code",
   "execution_count": null,
   "metadata": {},
   "outputs": [],
   "source": []
  }
 ],
 "metadata": {
  "kernelspec": {
   "display_name": "Python 3 (ipykernel)",
   "language": "python",
   "name": "python3"
  },
  "language_info": {
   "codemirror_mode": {
    "name": "ipython",
    "version": 3
   },
   "file_extension": ".py",
   "mimetype": "text/x-python",
   "name": "python",
   "nbconvert_exporter": "python",
   "pygments_lexer": "ipython3",
   "version": "3.11.2"
  }
 },
 "nbformat": 4,
 "nbformat_minor": 4
}
