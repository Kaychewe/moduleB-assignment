{
 "cells": [
  {
   "attachments": {},
   "cell_type": "markdown",
   "metadata": {},
   "source": [
    "## Module submission header\n",
    "### Submission preparation instructions \n",
    "_Completion of this header is mandatory, subject to a 2-point deduction to the assignment._ Only add plain text in the designated areas, i.e., replacing the relevant 'NA's. You must fill out all group member Names and Drexel email addresses in the below markdown list, under header __Module submission group__. It is required to fill out descriptive notes pertaining to any tutoring support received in the completion of this submission under the __Additional submission comments__ section at the bottom of the header. If no tutoring support was received, leave NA in place. You may as well list other optional comments pertaining to the submission at bottom. _Any distruption of this header's formatting will make your group liable to the 2-point deduction._\n",
    "\n",
    "### Module submission group\n",
    "- Group member 1\n",
    "    - Name: Kasonde Chewe\n",
    "    - Email: kc3745@drexel.edu\n",
    "- Group member 2\n",
    "    - Name: NA\n",
    "    - Email: NA\n",
    "- Group member 3\n",
    "    - Name: NA\n",
    "    - Email: NA\n",
    "- Group member 4\n",
    "    - Name: NA\n",
    "    - Email: NA\n",
    "\n",
    "### Additional submission comments\n",
    "- Tutoring support received: NA\n",
    "- Other (other): NA"
   ]
  },
  {
   "cell_type": "markdown",
   "metadata": {},
   "source": [
    "# Assignment Group 1\n"
   ]
  },
  {
   "cell_type": "markdown",
   "metadata": {},
   "source": [
    "## Module B _(23 points)_\n",
    "\n",
    "__B1.__ _(5 points)_ You will be using part of the [Goodbooks 10k dataset](https://github.com/zygmuntz/goodbooks-10k) for this module. To start, complete the function and read the `data/goodreads-books.csv` file into a list. Your output should be a list of dictionaries (one for for each book), which each contain the following fields: `'authors'`, original `'title'`, original `'publication year'`, `'average rating'`, and `'ratings count'`. Note: you must convert the average rating and ratings count into `float` and `int` types, respectively."
   ]
  },
  {
   "cell_type": "code",
   "execution_count": 3,
   "metadata": {},
   "outputs": [
    {
     "ename": "NameError",
     "evalue": "name 'goodreads_books' is not defined",
     "output_type": "error",
     "traceback": [
      "\u001b[1;31m---------------------------------------------------------------------------\u001b[0m",
      "\u001b[1;31mNameError\u001b[0m                                 Traceback (most recent call last)",
      "Cell \u001b[1;32mIn[3], line 13\u001b[0m\n\u001b[0;32m     11\u001b[0m     headers \u001b[38;5;241m=\u001b[39m goodreads_books[\u001b[38;5;241m0\u001b[39m]\n\u001b[0;32m     12\u001b[0m books_metadata \u001b[38;5;241m=\u001b[39m []\n\u001b[1;32m---> 13\u001b[0m \u001b[38;5;28;01mfor\u001b[39;00m row \u001b[38;5;129;01min\u001b[39;00m \u001b[43mgoodreads_books\u001b[49m[\u001b[38;5;241m1\u001b[39m:]:\n\u001b[0;32m     14\u001b[0m     book \u001b[38;5;241m=\u001b[39m {}\n\u001b[0;32m     15\u001b[0m     \u001b[38;5;28;01mfor\u001b[39;00m i, header \u001b[38;5;129;01min\u001b[39;00m \u001b[38;5;28menumerate\u001b[39m(headers):\n",
      "\u001b[1;31mNameError\u001b[0m: name 'goodreads_books' is not defined"
     ]
    }
   ],
   "source": [
    "# B1:Function(5/5)\n",
    "\n",
    "import csv\n",
    "\n",
    "def load_metadata(path_to_file):\n",
    "    reader = csv.reader(open(path_to_file, \"r\"))\n",
    "    goodreads_books = list(reader)\n",
    "    books_metadata = []\n",
    "    \n",
    "    #---your code starts here---\n",
    "    headers = goodreads_books[0]\n",
    "books_metadata = []\n",
    "for row in goodreads_books[1:]:\n",
    "    book = {}\n",
    "    for i, header in enumerate(headers):\n",
    "        book[header] = row[i]\n",
    "    books_metadata.append(book)\n",
    "\n",
    "# convert string values to appropriate types\n",
    "for book in books_metadata:\n",
    "    book['publication year'] = float(book['publication year'])\n",
    "    book['average rating'] = float(book['average rating'])\n",
    "    book['ratings count'] = int(book['ratings count'])\n",
    "    \n",
    "    #---your code stops here---\n",
    "    \n",
    "    return books_metadata\n",
    "\n",
    "books_metadata = load_metadata(\"data/goodreads-books.csv\")\n",
    "len(books_metadata), books_metadata[:5]"
   ]
  },
  {
   "cell_type": "markdown",
   "metadata": {},
   "source": [
    "For reference, your output should be:\n",
    "```\n",
    "(10000,\n",
    " [{'authors': 'Suzanne Collins',\n",
    "   'title': 'The Hunger Games',\n",
    "   'publication year': '2008.0',\n",
    "   'average rating': 4.34,\n",
    "   'ratings count': 4780653},\n",
    "  {'authors': 'J.K. Rowling, Mary GrandPré',\n",
    "   'title': \"Harry Potter and the Philosopher's Stone\",\n",
    "   'publication year': '1997.0',\n",
    "   'average rating': 4.44,\n",
    "   'ratings count': 4602479},\n",
    "  {'authors': 'Stephenie Meyer',\n",
    "   'title': 'Twilight',\n",
    "   'publication year': '2005.0',\n",
    "   'average rating': 3.57,\n",
    "   'ratings count': 3866839},\n",
    "  {'authors': 'Harper Lee',\n",
    "   'title': 'To Kill a Mockingbird',\n",
    "   'publication year': '1960.0',\n",
    "   'average rating': 4.25,\n",
    "   'ratings count': 3198671},\n",
    "  {'authors': 'F. Scott Fitzgerald',\n",
    "   'title': 'The Great Gatsby',\n",
    "   'publication year': '1925.0',\n",
    "   'average rating': 3.89,\n",
    "   'ratings count': 2683664}])\n",
    "```"
   ]
  },
  {
   "cell_type": "code",
   "execution_count": null,
   "metadata": {},
   "outputs": [],
   "source": [
    "# B1:SanityCheck\n",
    "\n",
    "books_metadata = load_metadata(\"data/goodreads-books.csv\")\n",
    "len(books_metadata), books_metadata[:5]"
   ]
  },
  {
   "cell_type": "markdown",
   "metadata": {},
   "source": [
    "__B2.__ _(4 points)_ Complete the function to sort this list of book metadata in descending order of `'average rating'`. The function should take the list of metadata dictionaries as an input argument, and output the same format with the list sorted by the specified column."
   ]
  },
  {
   "cell_type": "code",
   "execution_count": null,
   "metadata": {},
   "outputs": [],
   "source": [
    "# B2:Function(4/4)\n",
    "\n",
    "def sort_metadata(books_metadata):\n",
    "    \n",
    "    #---your code starts here---\n",
    "    \n",
    "    #---your code stops here---\n",
    "    \n",
    "    return sorted_metadata"
   ]
  },
  {
   "cell_type": "markdown",
   "metadata": {},
   "source": [
    "For reference, your output should be:\n",
    "```\n",
    "[{'authors': 'Bill Watterson',\n",
    "  'title': 'The Complete Calvin and Hobbes',\n",
    "  'publication year': '2005.0',\n",
    "  'average rating': 4.82,\n",
    "  'ratings count': 28900},\n",
    " {'authors': 'Brandon Sanderson',\n",
    "  'title': 'Words of Radiance',\n",
    "  'publication year': '2014.0',\n",
    "  'average rating': 4.77,\n",
    "  'ratings count': 73572},\n",
    " {'authors': 'J.K. Rowling, Mary GrandPré',\n",
    "  'title': '',\n",
    "  'publication year': '2003.0',\n",
    "  'average rating': 4.77,\n",
    "  'ratings count': 33220},\n",
    " {'authors': 'Anonymous, Lane T. Dennis, Wayne A. Grudem',\n",
    "  'title': '',\n",
    "  'publication year': '2002.0',\n",
    "  'average rating': 4.76,\n",
    "  'ratings count': 8953},\n",
    " {'authors': 'Francine Rivers',\n",
    "  'title': 'Mark of the Lion Trilogy',\n",
    "  'publication year': '1993.0',\n",
    "  'average rating': 4.76,\n",
    "  'ratings count': 9081}]\n",
    "```"
   ]
  },
  {
   "cell_type": "code",
   "execution_count": null,
   "metadata": {},
   "outputs": [],
   "source": [
    "# B2:SanityCheck\n",
    "\n",
    "sorted_metadata = sort_metadata(books_metadata)\n",
    "sorted_metadata[:5]"
   ]
  },
  {
   "cell_type": "markdown",
   "metadata": {},
   "source": [
    "__B3.__ _(5 points)_ Now complete the below function to take two arguments: the list, and an integer value for minimum ratings count. The new function should now sort _and_ filter the list, returning a list of books sorted by average rating that have been rated by more than a specified number of users. Here, you must use an approach using loops and `if` statements&mdash;in subsequent parts, comprehensions and the built-in `filter()` must be utilized instead (look up documentation and examples)."
   ]
  },
  {
   "cell_type": "code",
   "execution_count": null,
   "metadata": {},
   "outputs": [],
   "source": [
    "# B3:Function(5/5)\n",
    "\n",
    "def sort_and_filter(books_metadata, min_ratings_count):\n",
    "    new_metadata = []\n",
    "    \n",
    "    #---your code starts here---\n",
    "    \n",
    "    #---your code stops here---\n",
    "    \n",
    "    return new_metadata"
   ]
  },
  {
   "cell_type": "markdown",
   "metadata": {},
   "source": [
    "For reference, your output should be:\n",
    "```\n",
    "[{'authors': 'J.K. Rowling, Mary GrandPré',\n",
    "  'title': 'Harry Potter and the Deathly Hallows',\n",
    "  'publication year': '2007.0',\n",
    "  'average rating': 4.61,\n",
    "  'ratings count': 1746574},\n",
    " {'authors': 'J.K. Rowling, Mary GrandPré',\n",
    "  'title': 'Harry Potter and the Half-Blood Prince',\n",
    "  'publication year': '2005.0',\n",
    "  'average rating': 4.54,\n",
    "  'ratings count': 1678823},\n",
    " {'authors': 'J.K. Rowling, Mary GrandPré, Rufus Beck',\n",
    "  'title': 'Harry Potter and the Prisoner of Azkaban',\n",
    "  'publication year': '1999.0',\n",
    "  'average rating': 4.53,\n",
    "  'ratings count': 1832823},\n",
    " {'authors': 'J.K. Rowling, Mary GrandPré',\n",
    "  'title': 'Harry Potter and the Goblet of Fire',\n",
    "  'publication year': '2000.0',\n",
    "  'average rating': 4.53,\n",
    "  'ratings count': 1753043},\n",
    " {'authors': 'J.K. Rowling, Mary GrandPré',\n",
    "  'title': 'Harry Potter and the Order of the Phoenix',\n",
    "  'publication year': '2003.0',\n",
    "  'average rating': 4.46,\n",
    "  'ratings count': 1735368}]\n",
    "```"
   ]
  },
  {
   "cell_type": "code",
   "execution_count": null,
   "metadata": {},
   "outputs": [],
   "source": [
    "# B3:SanityCheck\n",
    "\n",
    "sorted_filtered_metadata = sort_and_filter(books_metadata, 1000000)\n",
    "sorted_filtered_metadata[:5]"
   ]
  },
  {
   "cell_type": "markdown",
   "metadata": {},
   "source": [
    "__B4:__ _(8 points)_ Now use the other two approaches to create different versions of the function. See if you can condense your code into a single line for some of the approaches! \n",
    "\n",
    "First, use a list comprehension _inside_ of the `sorted()` function:"
   ]
  },
  {
   "cell_type": "code",
   "execution_count": null,
   "metadata": {},
   "outputs": [],
   "source": [
    "# B4:Function(4/8)\n",
    "\n",
    "def sort_and_filter(books_metadata, min_ratings_count):\n",
    "    \n",
    "    #---your code starts here---\n",
    "    \n",
    "    #---your code stops here---\n",
    "    \n",
    "    return new_metadata"
   ]
  },
  {
   "cell_type": "markdown",
   "metadata": {},
   "source": [
    "For reference, your output should be:\n",
    "```\n",
    "[{'authors': 'J.K. Rowling, Mary GrandPré',\n",
    "  'title': 'Harry Potter and the Deathly Hallows',\n",
    "  'publication year': '2007.0',\n",
    "  'average rating': 4.61,\n",
    "  'ratings count': 1746574},\n",
    " {'authors': 'J.K. Rowling, Mary GrandPré',\n",
    "  'title': 'Harry Potter and the Half-Blood Prince',\n",
    "  'publication year': '2005.0',\n",
    "  'average rating': 4.54,\n",
    "  'ratings count': 1678823},\n",
    " {'authors': 'J.K. Rowling, Mary GrandPré, Rufus Beck',\n",
    "  'title': 'Harry Potter and the Prisoner of Azkaban',\n",
    "  'publication year': '1999.0',\n",
    "  'average rating': 4.53,\n",
    "  'ratings count': 1832823},\n",
    " {'authors': 'J.K. Rowling, Mary GrandPré',\n",
    "  'title': 'Harry Potter and the Goblet of Fire',\n",
    "  'publication year': '2000.0',\n",
    "  'average rating': 4.53,\n",
    "  'ratings count': 1753043},\n",
    " {'authors': 'J.K. Rowling, Mary GrandPré',\n",
    "  'title': 'Harry Potter and the Order of the Phoenix',\n",
    "  'publication year': '2003.0',\n",
    "  'average rating': 4.46,\n",
    "  'ratings count': 1735368}]\n",
    "```"
   ]
  },
  {
   "cell_type": "code",
   "execution_count": null,
   "metadata": {},
   "outputs": [],
   "source": [
    "# B4:SanityCheck\n",
    "\n",
    "sorted_filtered_metadata = sort_and_filter(books_metadata, 1000000)\n",
    "sorted_filtered_metadata[:5]"
   ]
  },
  {
   "cell_type": "code",
   "execution_count": null,
   "metadata": {},
   "outputs": [],
   "source": [
    "# B4:Function(4/8)\n",
    "\n",
    "def sort_and_filter(books_metadata, min_ratings_count):\n",
    "    \n",
    "    #---your code starts here---\n",
    "    \n",
    "    #---your code stops here---\n",
    "    \n",
    "    return new_metadata"
   ]
  },
  {
   "cell_type": "markdown",
   "metadata": {},
   "source": [
    "For reference, your output should be:\n",
    "```\n",
    "[{'authors': 'J.K. Rowling, Mary GrandPré',\n",
    "  'title': 'Harry Potter and the Deathly Hallows',\n",
    "  'publication year': '2007.0',\n",
    "  'average rating': 4.61,\n",
    "  'ratings count': 1746574},\n",
    " {'authors': 'J.K. Rowling, Mary GrandPré',\n",
    "  'title': 'Harry Potter and the Half-Blood Prince',\n",
    "  'publication year': '2005.0',\n",
    "  'average rating': 4.54,\n",
    "  'ratings count': 1678823},\n",
    " {'authors': 'J.K. Rowling, Mary GrandPré, Rufus Beck',\n",
    "  'title': 'Harry Potter and the Prisoner of Azkaban',\n",
    "  'publication year': '1999.0',\n",
    "  'average rating': 4.53,\n",
    "  'ratings count': 1832823},\n",
    " {'authors': 'J.K. Rowling, Mary GrandPré',\n",
    "  'title': 'Harry Potter and the Goblet of Fire',\n",
    "  'publication year': '2000.0',\n",
    "  'average rating': 4.53,\n",
    "  'ratings count': 1753043},\n",
    " {'authors': 'J.K. Rowling, Mary GrandPré',\n",
    "  'title': 'Harry Potter and the Order of the Phoenix',\n",
    "  'publication year': '2003.0',\n",
    "  'average rating': 4.46,\n",
    "  'ratings count': 1735368}]\n",
    "```"
   ]
  },
  {
   "cell_type": "code",
   "execution_count": null,
   "metadata": {},
   "outputs": [],
   "source": [
    "# B4:SanityCheck\n",
    "\n",
    "sorted_filtered_metadata = sort_and_filter(books_metadata, 1000000)\n",
    "sorted_filtered_metadata[:5]"
   ]
  },
  {
   "cell_type": "markdown",
   "metadata": {},
   "source": [
    "__B5.__ _(1 point)_ Objectively, should the solution in __B3__ be faster or slower than either of the solutions in __B4__? Print your answer as `'Faster'` or `'Slower'` in the code cell below."
   ]
  },
  {
   "cell_type": "code",
   "execution_count": null,
   "metadata": {},
   "outputs": [],
   "source": [
    "# Inline(1/1)\n",
    "\n",
    "# Objectively, should the solution in B3 be faster or slower than either of the solutions from B4? \n",
    "# Print your answer as 'Faster' or 'Slower', below\n",
    "print(\"<Faster or Slower>\")"
   ]
  },
  {
   "cell_type": "code",
   "execution_count": null,
   "metadata": {},
   "outputs": [],
   "source": []
  }
 ],
 "metadata": {
  "kernelspec": {
   "display_name": "Python 3 (ipykernel)",
   "language": "python",
   "name": "python3"
  },
  "language_info": {
   "codemirror_mode": {
    "name": "ipython",
    "version": 3
   },
   "file_extension": ".py",
   "mimetype": "text/x-python",
   "name": "python",
   "nbconvert_exporter": "python",
   "pygments_lexer": "ipython3",
   "version": "3.10.9"
  }
 },
 "nbformat": 4,
 "nbformat_minor": 4
}
